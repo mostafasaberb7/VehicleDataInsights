{
 "cells": [
  {
   "cell_type": "code",
   "execution_count": 1,
   "metadata": {},
   "outputs": [],
   "source": [
    "import pandas as pd"
   ]
  },
  {
   "cell_type": "code",
   "execution_count": 2,
   "metadata": {},
   "outputs": [],
   "source": [
    "nRowsRead = 10000 # specify 'None' if want to read whole file\n",
    "\n",
    "df = pd.read_csv(\"vehicles.csv\", delimiter=',', nrows = nRowsRead)"
   ]
  },
  {
   "cell_type": "code",
   "execution_count": 3,
   "metadata": {},
   "outputs": [
    {
     "data": {
      "text/html": [
       "<div>\n",
       "<style scoped>\n",
       "    .dataframe tbody tr th:only-of-type {\n",
       "        vertical-align: middle;\n",
       "    }\n",
       "\n",
       "    .dataframe tbody tr th {\n",
       "        vertical-align: top;\n",
       "    }\n",
       "\n",
       "    .dataframe thead th {\n",
       "        text-align: right;\n",
       "    }\n",
       "</style>\n",
       "<table border=\"1\" class=\"dataframe\">\n",
       "  <thead>\n",
       "    <tr style=\"text-align: right;\">\n",
       "      <th></th>\n",
       "      <th>id</th>\n",
       "      <th>url</th>\n",
       "      <th>region</th>\n",
       "      <th>region_url</th>\n",
       "      <th>price</th>\n",
       "      <th>year</th>\n",
       "      <th>manufacturer</th>\n",
       "      <th>model</th>\n",
       "      <th>condition</th>\n",
       "      <th>cylinders</th>\n",
       "      <th>...</th>\n",
       "      <th>size</th>\n",
       "      <th>type</th>\n",
       "      <th>paint_color</th>\n",
       "      <th>image_url</th>\n",
       "      <th>description</th>\n",
       "      <th>county</th>\n",
       "      <th>state</th>\n",
       "      <th>lat</th>\n",
       "      <th>long</th>\n",
       "      <th>posting_date</th>\n",
       "    </tr>\n",
       "  </thead>\n",
       "  <tbody>\n",
       "    <tr>\n",
       "      <th>0</th>\n",
       "      <td>7222695916</td>\n",
       "      <td>https://prescott.craigslist.org/cto/d/prescott...</td>\n",
       "      <td>prescott</td>\n",
       "      <td>https://prescott.craigslist.org</td>\n",
       "      <td>6000</td>\n",
       "      <td>NaN</td>\n",
       "      <td>NaN</td>\n",
       "      <td>NaN</td>\n",
       "      <td>NaN</td>\n",
       "      <td>NaN</td>\n",
       "      <td>...</td>\n",
       "      <td>NaN</td>\n",
       "      <td>NaN</td>\n",
       "      <td>NaN</td>\n",
       "      <td>NaN</td>\n",
       "      <td>NaN</td>\n",
       "      <td>NaN</td>\n",
       "      <td>az</td>\n",
       "      <td>NaN</td>\n",
       "      <td>NaN</td>\n",
       "      <td>NaN</td>\n",
       "    </tr>\n",
       "    <tr>\n",
       "      <th>1</th>\n",
       "      <td>7218891961</td>\n",
       "      <td>https://fayar.craigslist.org/ctd/d/bentonville...</td>\n",
       "      <td>fayetteville</td>\n",
       "      <td>https://fayar.craigslist.org</td>\n",
       "      <td>11900</td>\n",
       "      <td>NaN</td>\n",
       "      <td>NaN</td>\n",
       "      <td>NaN</td>\n",
       "      <td>NaN</td>\n",
       "      <td>NaN</td>\n",
       "      <td>...</td>\n",
       "      <td>NaN</td>\n",
       "      <td>NaN</td>\n",
       "      <td>NaN</td>\n",
       "      <td>NaN</td>\n",
       "      <td>NaN</td>\n",
       "      <td>NaN</td>\n",
       "      <td>ar</td>\n",
       "      <td>NaN</td>\n",
       "      <td>NaN</td>\n",
       "      <td>NaN</td>\n",
       "    </tr>\n",
       "    <tr>\n",
       "      <th>2</th>\n",
       "      <td>7221797935</td>\n",
       "      <td>https://keys.craigslist.org/cto/d/summerland-k...</td>\n",
       "      <td>florida keys</td>\n",
       "      <td>https://keys.craigslist.org</td>\n",
       "      <td>21000</td>\n",
       "      <td>NaN</td>\n",
       "      <td>NaN</td>\n",
       "      <td>NaN</td>\n",
       "      <td>NaN</td>\n",
       "      <td>NaN</td>\n",
       "      <td>...</td>\n",
       "      <td>NaN</td>\n",
       "      <td>NaN</td>\n",
       "      <td>NaN</td>\n",
       "      <td>NaN</td>\n",
       "      <td>NaN</td>\n",
       "      <td>NaN</td>\n",
       "      <td>fl</td>\n",
       "      <td>NaN</td>\n",
       "      <td>NaN</td>\n",
       "      <td>NaN</td>\n",
       "    </tr>\n",
       "    <tr>\n",
       "      <th>3</th>\n",
       "      <td>7222270760</td>\n",
       "      <td>https://worcester.craigslist.org/cto/d/west-br...</td>\n",
       "      <td>worcester / central MA</td>\n",
       "      <td>https://worcester.craigslist.org</td>\n",
       "      <td>1500</td>\n",
       "      <td>NaN</td>\n",
       "      <td>NaN</td>\n",
       "      <td>NaN</td>\n",
       "      <td>NaN</td>\n",
       "      <td>NaN</td>\n",
       "      <td>...</td>\n",
       "      <td>NaN</td>\n",
       "      <td>NaN</td>\n",
       "      <td>NaN</td>\n",
       "      <td>NaN</td>\n",
       "      <td>NaN</td>\n",
       "      <td>NaN</td>\n",
       "      <td>ma</td>\n",
       "      <td>NaN</td>\n",
       "      <td>NaN</td>\n",
       "      <td>NaN</td>\n",
       "    </tr>\n",
       "    <tr>\n",
       "      <th>4</th>\n",
       "      <td>7210384030</td>\n",
       "      <td>https://greensboro.craigslist.org/cto/d/trinit...</td>\n",
       "      <td>greensboro</td>\n",
       "      <td>https://greensboro.craigslist.org</td>\n",
       "      <td>4900</td>\n",
       "      <td>NaN</td>\n",
       "      <td>NaN</td>\n",
       "      <td>NaN</td>\n",
       "      <td>NaN</td>\n",
       "      <td>NaN</td>\n",
       "      <td>...</td>\n",
       "      <td>NaN</td>\n",
       "      <td>NaN</td>\n",
       "      <td>NaN</td>\n",
       "      <td>NaN</td>\n",
       "      <td>NaN</td>\n",
       "      <td>NaN</td>\n",
       "      <td>nc</td>\n",
       "      <td>NaN</td>\n",
       "      <td>NaN</td>\n",
       "      <td>NaN</td>\n",
       "    </tr>\n",
       "  </tbody>\n",
       "</table>\n",
       "<p>5 rows × 26 columns</p>\n",
       "</div>"
      ],
      "text/plain": [
       "           id                                                url  \\\n",
       "0  7222695916  https://prescott.craigslist.org/cto/d/prescott...   \n",
       "1  7218891961  https://fayar.craigslist.org/ctd/d/bentonville...   \n",
       "2  7221797935  https://keys.craigslist.org/cto/d/summerland-k...   \n",
       "3  7222270760  https://worcester.craigslist.org/cto/d/west-br...   \n",
       "4  7210384030  https://greensboro.craigslist.org/cto/d/trinit...   \n",
       "\n",
       "                   region                         region_url  price  year  \\\n",
       "0                prescott    https://prescott.craigslist.org   6000   NaN   \n",
       "1            fayetteville       https://fayar.craigslist.org  11900   NaN   \n",
       "2            florida keys        https://keys.craigslist.org  21000   NaN   \n",
       "3  worcester / central MA   https://worcester.craigslist.org   1500   NaN   \n",
       "4              greensboro  https://greensboro.craigslist.org   4900   NaN   \n",
       "\n",
       "  manufacturer model condition cylinders  ... size  type paint_color  \\\n",
       "0          NaN   NaN       NaN       NaN  ...  NaN   NaN         NaN   \n",
       "1          NaN   NaN       NaN       NaN  ...  NaN   NaN         NaN   \n",
       "2          NaN   NaN       NaN       NaN  ...  NaN   NaN         NaN   \n",
       "3          NaN   NaN       NaN       NaN  ...  NaN   NaN         NaN   \n",
       "4          NaN   NaN       NaN       NaN  ...  NaN   NaN         NaN   \n",
       "\n",
       "  image_url description county state lat long posting_date  \n",
       "0       NaN         NaN    NaN    az NaN  NaN          NaN  \n",
       "1       NaN         NaN    NaN    ar NaN  NaN          NaN  \n",
       "2       NaN         NaN    NaN    fl NaN  NaN          NaN  \n",
       "3       NaN         NaN    NaN    ma NaN  NaN          NaN  \n",
       "4       NaN         NaN    NaN    nc NaN  NaN          NaN  \n",
       "\n",
       "[5 rows x 26 columns]"
      ]
     },
     "execution_count": 3,
     "metadata": {},
     "output_type": "execute_result"
    }
   ],
   "source": [
    "df.head()"
   ]
  },
  {
   "cell_type": "code",
   "execution_count": 4,
   "metadata": {},
   "outputs": [
    {
     "name": "stdout",
     "output_type": "stream",
     "text": [
      "<class 'pandas.core.frame.DataFrame'>\n",
      "RangeIndex: 10000 entries, 0 to 9999\n",
      "Data columns (total 26 columns):\n",
      " #   Column        Non-Null Count  Dtype  \n",
      "---  ------        --------------  -----  \n",
      " 0   id            10000 non-null  int64  \n",
      " 1   url           10000 non-null  object \n",
      " 2   region        10000 non-null  object \n",
      " 3   region_url    10000 non-null  object \n",
      " 4   price         10000 non-null  int64  \n",
      " 5   year          9887 non-null   float64\n",
      " 6   manufacturer  9517 non-null   object \n",
      " 7   model         9871 non-null   object \n",
      " 8   condition     5347 non-null   object \n",
      " 9   cylinders     6713 non-null   object \n",
      " 10  fuel          9878 non-null   object \n",
      " 11  odometer      9942 non-null   float64\n",
      " 12  title_status  9753 non-null   object \n",
      " 13  transmission  9917 non-null   object \n",
      " 14  VIN           6881 non-null   object \n",
      " 15  drive         7101 non-null   object \n",
      " 16  size          2600 non-null   object \n",
      " 17  type          8149 non-null   object \n",
      " 18  paint_color   7984 non-null   object \n",
      " 19  image_url     9973 non-null   object \n",
      " 20  description   9973 non-null   object \n",
      " 21  county        0 non-null      float64\n",
      " 22  state         10000 non-null  object \n",
      " 23  lat           9928 non-null   float64\n",
      " 24  long          9928 non-null   float64\n",
      " 25  posting_date  9973 non-null   object \n",
      "dtypes: float64(5), int64(2), object(19)\n",
      "memory usage: 2.0+ MB\n"
     ]
    }
   ],
   "source": [
    "df.info()"
   ]
  },
  {
   "cell_type": "code",
   "execution_count": 5,
   "metadata": {},
   "outputs": [
    {
     "data": {
      "text/plain": [
       "id              0.0000\n",
       "url             0.0000\n",
       "region          0.0000\n",
       "region_url      0.0000\n",
       "price           0.0000\n",
       "year            0.0113\n",
       "manufacturer    0.0483\n",
       "model           0.0129\n",
       "condition       0.4653\n",
       "cylinders       0.3287\n",
       "fuel            0.0122\n",
       "odometer        0.0058\n",
       "title_status    0.0247\n",
       "transmission    0.0083\n",
       "VIN             0.3119\n",
       "drive           0.2899\n",
       "size            0.7400\n",
       "type            0.1851\n",
       "paint_color     0.2016\n",
       "image_url       0.0027\n",
       "description     0.0027\n",
       "county          1.0000\n",
       "state           0.0000\n",
       "lat             0.0072\n",
       "long            0.0072\n",
       "posting_date    0.0027\n",
       "dtype: float64"
      ]
     },
     "execution_count": 5,
     "metadata": {},
     "output_type": "execute_result"
    }
   ],
   "source": [
    "df.isnull().sum()/len(df)"
   ]
  },
  {
   "cell_type": "code",
   "execution_count": 6,
   "metadata": {},
   "outputs": [
    {
     "name": "stdout",
     "output_type": "stream",
     "text": [
      "id                  0\n",
      "url                 0\n",
      "region              0\n",
      "region_url          0\n",
      "price               0\n",
      "year                0\n",
      "manufacturer        0\n",
      "model               0\n",
      "condition           0\n",
      "cylinders           0\n",
      "fuel                0\n",
      "odometer            0\n",
      "title_status        0\n",
      "transmission        0\n",
      "VIN                 0\n",
      "drive               0\n",
      "size                0\n",
      "type                0\n",
      "paint_color         0\n",
      "image_url           0\n",
      "description         0\n",
      "county          10000\n",
      "state               0\n",
      "lat                 0\n",
      "long                0\n",
      "posting_date        0\n",
      "dtype: int64\n"
     ]
    },
    {
     "name": "stderr",
     "output_type": "stream",
     "text": [
      "C:\\Users\\Lenovo\\AppData\\Local\\Temp\\ipykernel_1316\\2892170387.py:3: FutureWarning: A value is trying to be set on a copy of a DataFrame or Series through chained assignment using an inplace method.\n",
      "The behavior will change in pandas 3.0. This inplace method will never work because the intermediate object on which we are setting values always behaves as a copy.\n",
      "\n",
      "For example, when doing 'df[col].method(value, inplace=True)', try using 'df.method({col: value}, inplace=True)' or df[col] = df[col].method(value) instead, to perform the operation inplace on the original object.\n",
      "\n",
      "\n",
      "  df[column].fillna(df[column].mean(), inplace=True)\n",
      "C:\\Users\\Lenovo\\AppData\\Local\\Temp\\ipykernel_1316\\2892170387.py:5: FutureWarning: A value is trying to be set on a copy of a DataFrame or Series through chained assignment using an inplace method.\n",
      "The behavior will change in pandas 3.0. This inplace method will never work because the intermediate object on which we are setting values always behaves as a copy.\n",
      "\n",
      "For example, when doing 'df[col].method(value, inplace=True)', try using 'df.method({col: value}, inplace=True)' or df[col] = df[col].method(value) instead, to perform the operation inplace on the original object.\n",
      "\n",
      "\n",
      "  df[column].fillna(df[column].mode()[0], inplace=True)\n"
     ]
    }
   ],
   "source": [
    "for column in df.columns:\n",
    "    if df[column].dtype in ['float64', 'int64']:\n",
    "        df[column].fillna(df[column].mean(), inplace=True)\n",
    "    else:  \n",
    "        df[column].fillna(df[column].mode()[0], inplace=True)\n",
    "\n",
    "print(df.isnull().sum())\n"
   ]
  },
  {
   "cell_type": "code",
   "execution_count": 7,
   "metadata": {},
   "outputs": [
    {
     "name": "stdout",
     "output_type": "stream",
     "text": [
      "<class 'pandas.core.frame.DataFrame'>\n",
      "RangeIndex: 10000 entries, 0 to 9999\n",
      "Data columns (total 26 columns):\n",
      " #   Column        Non-Null Count  Dtype  \n",
      "---  ------        --------------  -----  \n",
      " 0   id            10000 non-null  int64  \n",
      " 1   url           10000 non-null  object \n",
      " 2   region        10000 non-null  object \n",
      " 3   region_url    10000 non-null  object \n",
      " 4   price         10000 non-null  int64  \n",
      " 5   year          10000 non-null  float64\n",
      " 6   manufacturer  10000 non-null  object \n",
      " 7   model         10000 non-null  object \n",
      " 8   condition     10000 non-null  object \n",
      " 9   cylinders     10000 non-null  object \n",
      " 10  fuel          10000 non-null  object \n",
      " 11  odometer      10000 non-null  float64\n",
      " 12  title_status  10000 non-null  object \n",
      " 13  transmission  10000 non-null  object \n",
      " 14  VIN           10000 non-null  object \n",
      " 15  drive         10000 non-null  object \n",
      " 16  size          10000 non-null  object \n",
      " 17  type          10000 non-null  object \n",
      " 18  paint_color   10000 non-null  object \n",
      " 19  image_url     10000 non-null  object \n",
      " 20  description   10000 non-null  object \n",
      " 21  county        0 non-null      float64\n",
      " 22  state         10000 non-null  object \n",
      " 23  lat           10000 non-null  float64\n",
      " 24  long          10000 non-null  float64\n",
      " 25  posting_date  10000 non-null  object \n",
      "dtypes: float64(5), int64(2), object(19)\n",
      "memory usage: 2.0+ MB\n"
     ]
    }
   ],
   "source": [
    "df.info()"
   ]
  },
  {
   "cell_type": "code",
   "execution_count": 8,
   "metadata": {},
   "outputs": [
    {
     "data": {
      "text/html": [
       "<div>\n",
       "<style scoped>\n",
       "    .dataframe tbody tr th:only-of-type {\n",
       "        vertical-align: middle;\n",
       "    }\n",
       "\n",
       "    .dataframe tbody tr th {\n",
       "        vertical-align: top;\n",
       "    }\n",
       "\n",
       "    .dataframe thead th {\n",
       "        text-align: right;\n",
       "    }\n",
       "</style>\n",
       "<table border=\"1\" class=\"dataframe\">\n",
       "  <thead>\n",
       "    <tr style=\"text-align: right;\">\n",
       "      <th></th>\n",
       "      <th>id</th>\n",
       "      <th>url</th>\n",
       "      <th>region</th>\n",
       "      <th>region_url</th>\n",
       "      <th>price</th>\n",
       "      <th>year</th>\n",
       "      <th>manufacturer</th>\n",
       "      <th>model</th>\n",
       "      <th>condition</th>\n",
       "      <th>cylinders</th>\n",
       "      <th>...</th>\n",
       "      <th>size</th>\n",
       "      <th>type</th>\n",
       "      <th>paint_color</th>\n",
       "      <th>image_url</th>\n",
       "      <th>description</th>\n",
       "      <th>county</th>\n",
       "      <th>state</th>\n",
       "      <th>lat</th>\n",
       "      <th>long</th>\n",
       "      <th>posting_date</th>\n",
       "    </tr>\n",
       "  </thead>\n",
       "  <tbody>\n",
       "    <tr>\n",
       "      <th>0</th>\n",
       "      <td>7222695916</td>\n",
       "      <td>https://prescott.craigslist.org/cto/d/prescott...</td>\n",
       "      <td>prescott</td>\n",
       "      <td>https://prescott.craigslist.org</td>\n",
       "      <td>6000</td>\n",
       "      <td>2011.93891</td>\n",
       "      <td>ford</td>\n",
       "      <td>f-150</td>\n",
       "      <td>good</td>\n",
       "      <td>6 cylinders</td>\n",
       "      <td>...</td>\n",
       "      <td>full-size</td>\n",
       "      <td>SUV</td>\n",
       "      <td>white</td>\n",
       "      <td>https://images.craigslist.org/00N0N_1xMPvfxRAI...</td>\n",
       "      <td>Frontier Auto Sales We accept trades! (tow it,...</td>\n",
       "      <td>NaN</td>\n",
       "      <td>az</td>\n",
       "      <td>43.332321</td>\n",
       "      <td>-111.367014</td>\n",
       "      <td>2021-04-08T10:08:44-0500</td>\n",
       "    </tr>\n",
       "    <tr>\n",
       "      <th>1</th>\n",
       "      <td>7218891961</td>\n",
       "      <td>https://fayar.craigslist.org/ctd/d/bentonville...</td>\n",
       "      <td>fayetteville</td>\n",
       "      <td>https://fayar.craigslist.org</td>\n",
       "      <td>11900</td>\n",
       "      <td>2011.93891</td>\n",
       "      <td>ford</td>\n",
       "      <td>f-150</td>\n",
       "      <td>good</td>\n",
       "      <td>6 cylinders</td>\n",
       "      <td>...</td>\n",
       "      <td>full-size</td>\n",
       "      <td>SUV</td>\n",
       "      <td>white</td>\n",
       "      <td>https://images.craigslist.org/00N0N_1xMPvfxRAI...</td>\n",
       "      <td>Frontier Auto Sales We accept trades! (tow it,...</td>\n",
       "      <td>NaN</td>\n",
       "      <td>ar</td>\n",
       "      <td>43.332321</td>\n",
       "      <td>-111.367014</td>\n",
       "      <td>2021-04-08T10:08:44-0500</td>\n",
       "    </tr>\n",
       "    <tr>\n",
       "      <th>2</th>\n",
       "      <td>7221797935</td>\n",
       "      <td>https://keys.craigslist.org/cto/d/summerland-k...</td>\n",
       "      <td>florida keys</td>\n",
       "      <td>https://keys.craigslist.org</td>\n",
       "      <td>21000</td>\n",
       "      <td>2011.93891</td>\n",
       "      <td>ford</td>\n",
       "      <td>f-150</td>\n",
       "      <td>good</td>\n",
       "      <td>6 cylinders</td>\n",
       "      <td>...</td>\n",
       "      <td>full-size</td>\n",
       "      <td>SUV</td>\n",
       "      <td>white</td>\n",
       "      <td>https://images.craigslist.org/00N0N_1xMPvfxRAI...</td>\n",
       "      <td>Frontier Auto Sales We accept trades! (tow it,...</td>\n",
       "      <td>NaN</td>\n",
       "      <td>fl</td>\n",
       "      <td>43.332321</td>\n",
       "      <td>-111.367014</td>\n",
       "      <td>2021-04-08T10:08:44-0500</td>\n",
       "    </tr>\n",
       "    <tr>\n",
       "      <th>3</th>\n",
       "      <td>7222270760</td>\n",
       "      <td>https://worcester.craigslist.org/cto/d/west-br...</td>\n",
       "      <td>worcester / central MA</td>\n",
       "      <td>https://worcester.craigslist.org</td>\n",
       "      <td>1500</td>\n",
       "      <td>2011.93891</td>\n",
       "      <td>ford</td>\n",
       "      <td>f-150</td>\n",
       "      <td>good</td>\n",
       "      <td>6 cylinders</td>\n",
       "      <td>...</td>\n",
       "      <td>full-size</td>\n",
       "      <td>SUV</td>\n",
       "      <td>white</td>\n",
       "      <td>https://images.craigslist.org/00N0N_1xMPvfxRAI...</td>\n",
       "      <td>Frontier Auto Sales We accept trades! (tow it,...</td>\n",
       "      <td>NaN</td>\n",
       "      <td>ma</td>\n",
       "      <td>43.332321</td>\n",
       "      <td>-111.367014</td>\n",
       "      <td>2021-04-08T10:08:44-0500</td>\n",
       "    </tr>\n",
       "    <tr>\n",
       "      <th>4</th>\n",
       "      <td>7210384030</td>\n",
       "      <td>https://greensboro.craigslist.org/cto/d/trinit...</td>\n",
       "      <td>greensboro</td>\n",
       "      <td>https://greensboro.craigslist.org</td>\n",
       "      <td>4900</td>\n",
       "      <td>2011.93891</td>\n",
       "      <td>ford</td>\n",
       "      <td>f-150</td>\n",
       "      <td>good</td>\n",
       "      <td>6 cylinders</td>\n",
       "      <td>...</td>\n",
       "      <td>full-size</td>\n",
       "      <td>SUV</td>\n",
       "      <td>white</td>\n",
       "      <td>https://images.craigslist.org/00N0N_1xMPvfxRAI...</td>\n",
       "      <td>Frontier Auto Sales We accept trades! (tow it,...</td>\n",
       "      <td>NaN</td>\n",
       "      <td>nc</td>\n",
       "      <td>43.332321</td>\n",
       "      <td>-111.367014</td>\n",
       "      <td>2021-04-08T10:08:44-0500</td>\n",
       "    </tr>\n",
       "  </tbody>\n",
       "</table>\n",
       "<p>5 rows × 26 columns</p>\n",
       "</div>"
      ],
      "text/plain": [
       "           id                                                url  \\\n",
       "0  7222695916  https://prescott.craigslist.org/cto/d/prescott...   \n",
       "1  7218891961  https://fayar.craigslist.org/ctd/d/bentonville...   \n",
       "2  7221797935  https://keys.craigslist.org/cto/d/summerland-k...   \n",
       "3  7222270760  https://worcester.craigslist.org/cto/d/west-br...   \n",
       "4  7210384030  https://greensboro.craigslist.org/cto/d/trinit...   \n",
       "\n",
       "                   region                         region_url  price  \\\n",
       "0                prescott    https://prescott.craigslist.org   6000   \n",
       "1            fayetteville       https://fayar.craigslist.org  11900   \n",
       "2            florida keys        https://keys.craigslist.org  21000   \n",
       "3  worcester / central MA   https://worcester.craigslist.org   1500   \n",
       "4              greensboro  https://greensboro.craigslist.org   4900   \n",
       "\n",
       "         year manufacturer  model condition    cylinders  ...       size  \\\n",
       "0  2011.93891         ford  f-150      good  6 cylinders  ...  full-size   \n",
       "1  2011.93891         ford  f-150      good  6 cylinders  ...  full-size   \n",
       "2  2011.93891         ford  f-150      good  6 cylinders  ...  full-size   \n",
       "3  2011.93891         ford  f-150      good  6 cylinders  ...  full-size   \n",
       "4  2011.93891         ford  f-150      good  6 cylinders  ...  full-size   \n",
       "\n",
       "   type paint_color                                          image_url  \\\n",
       "0   SUV       white  https://images.craigslist.org/00N0N_1xMPvfxRAI...   \n",
       "1   SUV       white  https://images.craigslist.org/00N0N_1xMPvfxRAI...   \n",
       "2   SUV       white  https://images.craigslist.org/00N0N_1xMPvfxRAI...   \n",
       "3   SUV       white  https://images.craigslist.org/00N0N_1xMPvfxRAI...   \n",
       "4   SUV       white  https://images.craigslist.org/00N0N_1xMPvfxRAI...   \n",
       "\n",
       "                                         description county state        lat  \\\n",
       "0  Frontier Auto Sales We accept trades! (tow it,...    NaN    az  43.332321   \n",
       "1  Frontier Auto Sales We accept trades! (tow it,...    NaN    ar  43.332321   \n",
       "2  Frontier Auto Sales We accept trades! (tow it,...    NaN    fl  43.332321   \n",
       "3  Frontier Auto Sales We accept trades! (tow it,...    NaN    ma  43.332321   \n",
       "4  Frontier Auto Sales We accept trades! (tow it,...    NaN    nc  43.332321   \n",
       "\n",
       "         long              posting_date  \n",
       "0 -111.367014  2021-04-08T10:08:44-0500  \n",
       "1 -111.367014  2021-04-08T10:08:44-0500  \n",
       "2 -111.367014  2021-04-08T10:08:44-0500  \n",
       "3 -111.367014  2021-04-08T10:08:44-0500  \n",
       "4 -111.367014  2021-04-08T10:08:44-0500  \n",
       "\n",
       "[5 rows x 26 columns]"
      ]
     },
     "execution_count": 8,
     "metadata": {},
     "output_type": "execute_result"
    }
   ],
   "source": [
    "df.head()"
   ]
  },
  {
   "cell_type": "code",
   "execution_count": 9,
   "metadata": {},
   "outputs": [
    {
     "data": {
      "text/plain": [
       "manufacturer\n",
       "ford               2193\n",
       "chevrolet          1523\n",
       "toyota              739\n",
       "jeep                532\n",
       "nissan              448\n",
       "ram                 395\n",
       "gmc                 390\n",
       "dodge               384\n",
       "honda               383\n",
       "kia                 275\n",
       "bmw                 271\n",
       "subaru              206\n",
       "mercedes-benz       198\n",
       "lexus               192\n",
       "hyundai             188\n",
       "acura               175\n",
       "volkswagen          164\n",
       "cadillac            162\n",
       "chrysler            137\n",
       "audi                136\n",
       "buick               124\n",
       "infiniti            120\n",
       "lincoln             105\n",
       "mazda                95\n",
       "volvo                77\n",
       "mitsubishi           55\n",
       "jaguar               54\n",
       "mini                 51\n",
       "rover                51\n",
       "pontiac              42\n",
       "alfa-romeo           34\n",
       "porsche              22\n",
       "tesla                20\n",
       "fiat                 18\n",
       "mercury              18\n",
       "saturn               15\n",
       "harley-davidson       5\n",
       "ferrari               3\n",
       "Name: count, dtype: int64"
      ]
     },
     "execution_count": 9,
     "metadata": {},
     "output_type": "execute_result"
    }
   ],
   "source": [
    "df[\"manufacturer\"].value_counts()"
   ]
  },
  {
   "cell_type": "markdown",
   "metadata": {},
   "source": [
    "### 1. What is the average price of the vehicles in the dataset?\n",
    "\n"
   ]
  },
  {
   "cell_type": "code",
   "execution_count": 10,
   "metadata": {},
   "outputs": [
    {
     "name": "stdout",
     "output_type": "stream",
     "text": [
      "The average price of vehicles is: $130303.01\n"
     ]
    }
   ],
   "source": [
    "average_price = df['price'].mean()\n",
    "print(f\"The average price of vehicles is: ${average_price:.2f}\")"
   ]
  },
  {
   "cell_type": "markdown",
   "metadata": {},
   "source": [
    "### 2. Which region has the highest number of listings?"
   ]
  },
  {
   "cell_type": "code",
   "execution_count": 11,
   "metadata": {},
   "outputs": [
    {
     "name": "stdout",
     "output_type": "stream",
     "text": [
      "The region with the highest number of listings is: anchorage / mat-su with 2742 listings.\n"
     ]
    }
   ],
   "source": [
    "region_counts = df['region'].value_counts()\n",
    "top_region = region_counts.idxmax()\n",
    "top_region_count = region_counts.max()\n",
    "print(f\"The region with the highest number of listings is: {top_region} with {top_region_count} listings.\")\n"
   ]
  },
  {
   "cell_type": "markdown",
   "metadata": {},
   "source": [
    "### 3. What is the most common car manufacturer in the dataset?"
   ]
  },
  {
   "cell_type": "code",
   "execution_count": 12,
   "metadata": {},
   "outputs": [
    {
     "name": "stdout",
     "output_type": "stream",
     "text": [
      "The most common car manufacturer is: ford\n"
     ]
    }
   ],
   "source": [
    "common_manufacturer = df['manufacturer'].mode()[0]\n",
    "print(f\"The most common car manufacturer is: {common_manufacturer}\")"
   ]
  },
  {
   "cell_type": "markdown",
   "metadata": {},
   "source": [
    "### 4. What is the average odometer reading for vehicles in the dataset?\n"
   ]
  },
  {
   "cell_type": "code",
   "execution_count": 13,
   "metadata": {},
   "outputs": [
    {
     "name": "stdout",
     "output_type": "stream",
     "text": [
      "The average odometer reading for vehicles is: 105944.46 miles\n"
     ]
    }
   ],
   "source": [
    "average_odometer = df['odometer'].mean()\n",
    "print(f\"The average odometer reading for vehicles is: {average_odometer:.2f} miles\")\n"
   ]
  },
  {
   "cell_type": "markdown",
   "metadata": {},
   "source": [
    "### 5. What is the distribution of fuel types across the listings?"
   ]
  },
  {
   "cell_type": "code",
   "execution_count": 15,
   "metadata": {},
   "outputs": [
    {
     "name": "stdout",
     "output_type": "stream",
     "text": [
      "Fuel type distribution:\n",
      "fuel\n",
      "gas         8507\n",
      "other        720\n",
      "diesel       621\n",
      "hybrid       102\n",
      "electric      50\n",
      "Name: count, dtype: int64\n"
     ]
    }
   ],
   "source": [
    "fuel_distribution = df['fuel'].value_counts()\n",
    "print(\"Fuel type distribution:\")\n",
    "print(fuel_distribution)"
   ]
  },
  {
   "cell_type": "markdown",
   "metadata": {},
   "source": [
    "### 6. What is the average price of cars by transmission type?\n",
    "\n"
   ]
  },
  {
   "cell_type": "code",
   "execution_count": 16,
   "metadata": {},
   "outputs": [
    {
     "name": "stdout",
     "output_type": "stream",
     "text": [
      "Average price by transmission type:\n",
      "transmission\n",
      "automatic    3.369146e+04\n",
      "manual       1.720850e+06\n",
      "other        2.790922e+04\n",
      "Name: price, dtype: float64\n"
     ]
    }
   ],
   "source": [
    "average_price_by_transmission = df.groupby('transmission')['price'].mean()\n",
    "print(\"Average price by transmission type:\")\n",
    "print(average_price_by_transmission)"
   ]
  },
  {
   "cell_type": "markdown",
   "metadata": {},
   "source": [
    "### 7. What are the top 5 most common vehicle models listed?"
   ]
  },
  {
   "cell_type": "code",
   "execution_count": 17,
   "metadata": {},
   "outputs": [
    {
     "name": "stdout",
     "output_type": "stream",
     "text": [
      "Top 5 most common vehicle models:\n",
      "model\n",
      "f-150             368\n",
      "silverado 1500    154\n",
      "silverado         114\n",
      "1500               94\n",
      "wrangler           86\n",
      "Name: count, dtype: int64\n"
     ]
    }
   ],
   "source": [
    "top_5_models = df['model'].value_counts().head(5)\n",
    "print(\"Top 5 most common vehicle models:\")\n",
    "print(top_5_models)"
   ]
  },
  {
   "cell_type": "markdown",
   "metadata": {},
   "source": [
    "### 8. What is the average year of the vehicles listed?"
   ]
  },
  {
   "cell_type": "code",
   "execution_count": 18,
   "metadata": {},
   "outputs": [
    {
     "name": "stdout",
     "output_type": "stream",
     "text": [
      "The average year of the vehicles is: 2012\n"
     ]
    }
   ],
   "source": [
    "average_year = df['year'].mean()\n",
    "print(f\"The average year of the vehicles is: {average_year:.0f}\")"
   ]
  },
  {
   "cell_type": "markdown",
   "metadata": {},
   "source": [
    "### 9. How many vehicles have over 100,000 miles on the odometer?"
   ]
  },
  {
   "cell_type": "code",
   "execution_count": 19,
   "metadata": {},
   "outputs": [
    {
     "name": "stdout",
     "output_type": "stream",
     "text": [
      "There are 3479 vehicles with over 100,000 miles on the odometer.\n"
     ]
    }
   ],
   "source": [
    "high_mileage_count = df[df['odometer'] > 100000].shape[0]\n",
    "print(f\"There are {high_mileage_count} vehicles with over 100,000 miles on the odometer.\")\n"
   ]
  },
  {
   "cell_type": "markdown",
   "metadata": {},
   "source": [
    "### 10. What is the average price of vehicles for each manufacturer?"
   ]
  },
  {
   "cell_type": "code",
   "execution_count": 20,
   "metadata": {},
   "outputs": [
    {
     "name": "stdout",
     "output_type": "stream",
     "text": [
      "Average price by manufacturer:\n",
      "manufacturer\n",
      "acura               25606.394286\n",
      "alfa-romeo          30382.058824\n",
      "audi                28434.198529\n",
      "bmw                 23830.339483\n",
      "buick               14078.435484\n",
      "cadillac            23225.975309\n",
      "chevrolet          671202.612607\n",
      "chrysler            16053.153285\n",
      "dodge               17621.427083\n",
      "ferrari            137966.666667\n",
      "fiat                12058.833333\n",
      "ford                67834.378021\n",
      "gmc                 26319.410256\n",
      "harley-davidson     17857.000000\n",
      "honda               13783.091384\n",
      "hyundai             13817.398936\n",
      "infiniti            25296.858333\n",
      "jaguar              31549.833333\n",
      "jeep                23036.979323\n",
      "kia                 15298.883636\n",
      "lexus               22142.880208\n",
      "lincoln             25345.800000\n",
      "mazda               17543.778947\n",
      "mercedes-benz       21739.712121\n",
      "mercury              4721.333333\n",
      "mini                19047.980392\n",
      "mitsubishi          19532.727273\n",
      "nissan              17737.680804\n",
      "pontiac             10527.714286\n",
      "porsche             43016.454545\n",
      "ram                 28669.951899\n",
      "rover               32704.960784\n",
      "saturn               4069.800000\n",
      "subaru              18532.601942\n",
      "tesla               42623.850000\n",
      "toyota              20658.672530\n",
      "volkswagen          15818.323171\n",
      "volvo               22289.844156\n",
      "Name: price, dtype: float64\n"
     ]
    }
   ],
   "source": [
    "average_price_by_manufacturer = df.groupby('manufacturer')['price'].mean()\n",
    "print(\"Average price by manufacturer:\")\n",
    "print(average_price_by_manufacturer)"
   ]
  },
  {
   "cell_type": "code",
   "execution_count": null,
   "metadata": {},
   "outputs": [],
   "source": []
  }
 ],
 "metadata": {
  "kernelspec": {
   "display_name": "saber",
   "language": "python",
   "name": "python3"
  },
  "language_info": {
   "codemirror_mode": {
    "name": "ipython",
    "version": 3
   },
   "file_extension": ".py",
   "mimetype": "text/x-python",
   "name": "python",
   "nbconvert_exporter": "python",
   "pygments_lexer": "ipython3",
   "version": "3.12.2"
  }
 },
 "nbformat": 4,
 "nbformat_minor": 2
}
